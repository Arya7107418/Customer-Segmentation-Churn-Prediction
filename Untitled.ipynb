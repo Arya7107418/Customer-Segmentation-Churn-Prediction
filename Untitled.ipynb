{
 "cells": [
  {
   "cell_type": "code",
   "execution_count": null,
   "id": "080dfe42",
   "metadata": {},
   "outputs": [
    {
     "name": "stdout",
     "output_type": "stream",
     "text": [
      "Requirement already satisfied: joblib in c:\\users\\hp\\appdata\\local\\programs\\python\\python313\\lib\\site-packages (1.5.2)\n",
      "Note: you may need to restart the kernel to use updated packages.\n"
     ]
    },
    {
     "name": "stderr",
     "output_type": "stream",
     "text": [
      "'{sys.executable}' is not recognized as an internal or external command,\n",
      "operable program or batch file.\n"
     ]
    },
    {
     "name": "stdout",
     "output_type": "stream",
     "text": [
      "Requirement already satisfied: matplotlib in c:\\users\\hp\\appdata\\local\\programs\\python\\python313\\lib\\site-packages (3.10.6)\n",
      "Requirement already satisfied: contourpy>=1.0.1 in c:\\users\\hp\\appdata\\local\\programs\\python\\python313\\lib\\site-packages (from matplotlib) (1.3.3)\n",
      "Requirement already satisfied: cycler>=0.10 in c:\\users\\hp\\appdata\\local\\programs\\python\\python313\\lib\\site-packages (from matplotlib) (0.12.1)\n",
      "Requirement already satisfied: fonttools>=4.22.0 in c:\\users\\hp\\appdata\\local\\programs\\python\\python313\\lib\\site-packages (from matplotlib) (4.60.0)\n",
      "Requirement already satisfied: kiwisolver>=1.3.1 in c:\\users\\hp\\appdata\\local\\programs\\python\\python313\\lib\\site-packages (from matplotlib) (1.4.9)\n",
      "Requirement already satisfied: numpy>=1.23 in c:\\users\\hp\\appdata\\local\\programs\\python\\python313\\lib\\site-packages (from matplotlib) (2.2.4)\n",
      "Requirement already satisfied: packaging>=20.0 in c:\\users\\hp\\appdata\\local\\programs\\python\\python313\\lib\\site-packages (from matplotlib) (25.0)\n",
      "Requirement already satisfied: pillow>=8 in c:\\users\\hp\\appdata\\local\\programs\\python\\python313\\lib\\site-packages (from matplotlib) (11.2.1)\n",
      "Requirement already satisfied: pyparsing>=2.3.1 in c:\\users\\hp\\appdata\\local\\programs\\python\\python313\\lib\\site-packages (from matplotlib) (3.2.4)\n",
      "Requirement already satisfied: python-dateutil>=2.7 in c:\\users\\hp\\appdata\\local\\programs\\python\\python313\\lib\\site-packages (from matplotlib) (2.9.0.post0)\n",
      "Requirement already satisfied: six>=1.5 in c:\\users\\hp\\appdata\\local\\programs\\python\\python313\\lib\\site-packages (from python-dateutil>=2.7->matplotlib) (1.17.0)\n",
      "Note: you may need to restart the kernel to use updated packages.\n",
      "Requirement already satisfied: seaborn in c:\\users\\hp\\appdata\\local\\programs\\python\\python313\\lib\\site-packages (0.13.2)\n",
      "Requirement already satisfied: numpy!=1.24.0,>=1.20 in c:\\users\\hp\\appdata\\local\\programs\\python\\python313\\lib\\site-packages (from seaborn) (2.2.4)\n",
      "Requirement already satisfied: pandas>=1.2 in c:\\users\\hp\\appdata\\local\\programs\\python\\python313\\lib\\site-packages (from seaborn) (2.2.3)\n",
      "Requirement already satisfied: matplotlib!=3.6.1,>=3.4 in c:\\users\\hp\\appdata\\local\\programs\\python\\python313\\lib\\site-packages (from seaborn) (3.10.6)\n",
      "Requirement already satisfied: contourpy>=1.0.1 in c:\\users\\hp\\appdata\\local\\programs\\python\\python313\\lib\\site-packages (from matplotlib!=3.6.1,>=3.4->seaborn) (1.3.3)\n",
      "Requirement already satisfied: cycler>=0.10 in c:\\users\\hp\\appdata\\local\\programs\\python\\python313\\lib\\site-packages (from matplotlib!=3.6.1,>=3.4->seaborn) (0.12.1)\n",
      "Requirement already satisfied: fonttools>=4.22.0 in c:\\users\\hp\\appdata\\local\\programs\\python\\python313\\lib\\site-packages (from matplotlib!=3.6.1,>=3.4->seaborn) (4.60.0)\n",
      "Requirement already satisfied: kiwisolver>=1.3.1 in c:\\users\\hp\\appdata\\local\\programs\\python\\python313\\lib\\site-packages (from matplotlib!=3.6.1,>=3.4->seaborn) (1.4.9)\n",
      "Requirement already satisfied: packaging>=20.0 in c:\\users\\hp\\appdata\\local\\programs\\python\\python313\\lib\\site-packages (from matplotlib!=3.6.1,>=3.4->seaborn) (25.0)\n",
      "Requirement already satisfied: pillow>=8 in c:\\users\\hp\\appdata\\local\\programs\\python\\python313\\lib\\site-packages (from matplotlib!=3.6.1,>=3.4->seaborn) (11.2.1)\n",
      "Requirement already satisfied: pyparsing>=2.3.1 in c:\\users\\hp\\appdata\\local\\programs\\python\\python313\\lib\\site-packages (from matplotlib!=3.6.1,>=3.4->seaborn) (3.2.4)\n",
      "Requirement already satisfied: python-dateutil>=2.7 in c:\\users\\hp\\appdata\\local\\programs\\python\\python313\\lib\\site-packages (from matplotlib!=3.6.1,>=3.4->seaborn) (2.9.0.post0)\n",
      "Requirement already satisfied: pytz>=2020.1 in c:\\users\\hp\\appdata\\local\\programs\\python\\python313\\lib\\site-packages (from pandas>=1.2->seaborn) (2025.2)\n",
      "Requirement already satisfied: tzdata>=2022.7 in c:\\users\\hp\\appdata\\local\\programs\\python\\python313\\lib\\site-packages (from pandas>=1.2->seaborn) (2025.1)\n",
      "Requirement already satisfied: six>=1.5 in c:\\users\\hp\\appdata\\local\\programs\\python\\python313\\lib\\site-packages (from python-dateutil>=2.7->matplotlib!=3.6.1,>=3.4->seaborn) (1.17.0)\n",
      "Note: you may need to restart the kernel to use updated packages.\n",
      "Requirement already satisfied: scikit-learn in c:\\users\\hp\\appdata\\local\\programs\\python\\python313\\lib\\site-packages (1.7.2)\n",
      "Requirement already satisfied: numpy>=1.22.0 in c:\\users\\hp\\appdata\\local\\programs\\python\\python313\\lib\\site-packages (from scikit-learn) (2.2.4)\n",
      "Requirement already satisfied: scipy>=1.8.0 in c:\\users\\hp\\appdata\\local\\programs\\python\\python313\\lib\\site-packages (from scikit-learn) (1.16.2)\n",
      "Requirement already satisfied: joblib>=1.2.0 in c:\\users\\hp\\appdata\\local\\programs\\python\\python313\\lib\\site-packages (from scikit-learn) (1.5.2)\n",
      "Requirement already satisfied: threadpoolctl>=3.1.0 in c:\\users\\hp\\appdata\\local\\programs\\python\\python313\\lib\\site-packages (from scikit-learn) (3.6.0)\n",
      "Note: you may need to restart the kernel to use updated packages.\n"
     ]
    }
   ],
   "source": [
    "%pip install joblib\n",
    "!{sys.executable} -m pip install joblib matplotlib\n",
    "import warnings, joblib\n",
    "warnings.filterwarnings(\"ignore\")\n",
    "RANDOM_STATE = 42\n",
    "\n",
    "import numpy as np\n",
    "import pandas as pd\n",
    "%pip install matplotlib\n",
    "import matplotlib.pyplot as plt\n",
    "%pip install seaborn\n",
    "import seaborn as sns\n",
    "sns.set(style=\"whitegrid\", palette=\"Set2\")\n",
    "plt.rcParams['figure.figsize'] = (10,6)\n",
    "\n",
    "%pip install scikit-learn\n",
    "from sklearn.preprocessing import StandardScaler, LabelEncoder\n",
    "from sklearn.cluster import KMeans\n",
    "from sklearn.ensemble import RandomForestClassifier\n",
    "from sklearn.model_selection import train_test_split, RandomizedSearchCV\n",
    "from sklearn.metrics import accuracy_score, roc_auc_score, classification_report, precision_recall_curve\n",
    "from sklearn.calibration import CalibratedClassifierCV\n",
    "from sklearn.inspection import permutation_importance\n",
    "\n",
    "np.random.seed(RANDOM_STATE)\n",
    "\n",
    "def safe_qcut(series, q=5, labels=None):\n",
    "    try:\n",
    "        return pd.qcut(series, q, labels=labels, duplicates='drop')\n",
    "    except Exception:\n",
    "        ranks = series.rank(method='first')\n",
    "        return pd.qcut(ranks, q, labels=labels, duplicates='drop')\n"
   ]
  },
  {
   "cell_type": "code",
   "execution_count": 5,
   "id": "aad153bc",
   "metadata": {},
   "outputs": [
    {
     "name": "stdout",
     "output_type": "stream",
     "text": [
      "Requirement already satisfied: openpyxl in c:\\users\\hp\\appdata\\local\\programs\\python\\python313\\lib\\site-packages (3.1.5)\n",
      "Requirement already satisfied: et-xmlfile in c:\\users\\hp\\appdata\\local\\programs\\python\\python313\\lib\\site-packages (from openpyxl) (2.0.0)\n",
      "Dataset shape: (21, 4)\n"
     ]
    },
    {
     "data": {
      "text/html": [
       "<div>\n",
       "<style scoped>\n",
       "    .dataframe tbody tr th:only-of-type {\n",
       "        vertical-align: middle;\n",
       "    }\n",
       "\n",
       "    .dataframe tbody tr th {\n",
       "        vertical-align: top;\n",
       "    }\n",
       "\n",
       "    .dataframe thead th {\n",
       "        text-align: right;\n",
       "    }\n",
       "</style>\n",
       "<table border=\"1\" class=\"dataframe\">\n",
       "  <thead>\n",
       "    <tr style=\"text-align: right;\">\n",
       "      <th></th>\n",
       "      <th>Unnamed: 0</th>\n",
       "      <th>Unnamed: 1</th>\n",
       "      <th>Unnamed: 2</th>\n",
       "      <th>Unnamed: 3</th>\n",
       "    </tr>\n",
       "  </thead>\n",
       "  <tbody>\n",
       "    <tr>\n",
       "      <th>0</th>\n",
       "      <td>NaN</td>\n",
       "      <td>Data</td>\n",
       "      <td>Variable</td>\n",
       "      <td>Discerption</td>\n",
       "    </tr>\n",
       "    <tr>\n",
       "      <th>1</th>\n",
       "      <td>NaN</td>\n",
       "      <td>E Comm</td>\n",
       "      <td>CustomerID</td>\n",
       "      <td>Unique customer ID</td>\n",
       "    </tr>\n",
       "    <tr>\n",
       "      <th>2</th>\n",
       "      <td>NaN</td>\n",
       "      <td>E Comm</td>\n",
       "      <td>Churn</td>\n",
       "      <td>Churn Flag</td>\n",
       "    </tr>\n",
       "    <tr>\n",
       "      <th>3</th>\n",
       "      <td>NaN</td>\n",
       "      <td>E Comm</td>\n",
       "      <td>Tenure</td>\n",
       "      <td>Tenure of customer in organization</td>\n",
       "    </tr>\n",
       "    <tr>\n",
       "      <th>4</th>\n",
       "      <td>NaN</td>\n",
       "      <td>E Comm</td>\n",
       "      <td>PreferredLoginDevice</td>\n",
       "      <td>Preferred login device of customer</td>\n",
       "    </tr>\n",
       "  </tbody>\n",
       "</table>\n",
       "</div>"
      ],
      "text/plain": [
       "   Unnamed: 0 Unnamed: 1            Unnamed: 2  \\\n",
       "0         NaN       Data              Variable   \n",
       "1         NaN     E Comm            CustomerID   \n",
       "2         NaN     E Comm                 Churn   \n",
       "3         NaN     E Comm                Tenure   \n",
       "4         NaN     E Comm  PreferredLoginDevice   \n",
       "\n",
       "                           Unnamed: 3  \n",
       "0                         Discerption  \n",
       "1                  Unique customer ID  \n",
       "2                          Churn Flag  \n",
       "3  Tenure of customer in organization  \n",
       "4  Preferred login device of customer  "
      ]
     },
     "execution_count": 5,
     "metadata": {},
     "output_type": "execute_result"
    }
   ],
   "source": [
    "import sys\n",
    "!{sys.executable} -m pip install openpyxl\n",
    "\n",
    "df = pd.read_excel(\"E commerce Dataset.xlsx\")  # update path\n",
    "print(\"Dataset shape:\", df.shape)\n",
    "df.head()\n"
   ]
  },
  {
   "cell_type": "markdown",
   "id": "30aba6c2",
   "metadata": {},
   "source": [
    "Cell 3 — Clean & KPIs"
   ]
  },
  {
   "cell_type": "code",
   "execution_count": 6,
   "id": "cb372743",
   "metadata": {},
   "outputs": [
    {
     "name": "stdout",
     "output_type": "stream",
     "text": [
      "   CustomerID  Churn  Tenure PreferredLoginDevice  CityTier  WarehouseToHome  \\\n",
      "0       50001      1     4.0         Mobile Phone         3              6.0   \n",
      "1       50002      1     NaN                Phone         1              8.0   \n",
      "2       50003      1     NaN                Phone         1             30.0   \n",
      "3       50004      1     0.0                Phone         3             15.0   \n",
      "4       50005      1     0.0                Phone         1             12.0   \n",
      "\n",
      "  PreferredPaymentMode  Gender  HourSpendOnApp  NumberOfDeviceRegistered  \\\n",
      "0           Debit Card  Female             3.0                         3   \n",
      "1                  UPI    Male             3.0                         4   \n",
      "2           Debit Card    Male             2.0                         4   \n",
      "3           Debit Card    Male             2.0                         4   \n",
      "4                   CC    Male             NaN                         3   \n",
      "\n",
      "     PreferedOrderCat  SatisfactionScore MaritalStatus  NumberOfAddress  \\\n",
      "0  Laptop & Accessory                  2        Single                9   \n",
      "1              Mobile                  3        Single                7   \n",
      "2              Mobile                  3        Single                6   \n",
      "3  Laptop & Accessory                  5        Single                8   \n",
      "4              Mobile                  5        Single                3   \n",
      "\n",
      "   Complain  OrderAmountHikeFromlastYear  CouponUsed  OrderCount  \\\n",
      "0         1                         11.0         1.0         1.0   \n",
      "1         1                         15.0         0.0         1.0   \n",
      "2         1                         14.0         0.0         1.0   \n",
      "3         0                         23.0         0.0         1.0   \n",
      "4         0                         11.0         1.0         1.0   \n",
      "\n",
      "   DaySinceLastOrder  CashbackAmount  \n",
      "0                5.0          159.93  \n",
      "1                0.0          120.90  \n",
      "2                3.0          120.28  \n",
      "3                3.0          134.07  \n",
      "4                3.0          129.60  \n",
      "['CustomerID', 'Churn', 'Tenure', 'PreferredLoginDevice', 'CityTier', 'WarehouseToHome', 'PreferredPaymentMode', 'Gender', 'HourSpendOnApp', 'NumberOfDeviceRegistered', 'PreferedOrderCat', 'SatisfactionScore', 'MaritalStatus', 'NumberOfAddress', 'Complain', 'OrderAmountHikeFromlastYear', 'CouponUsed', 'OrderCount', 'DaySinceLastOrder', 'CashbackAmount']\n"
     ]
    }
   ],
   "source": [
    "import pandas as pd\n",
    "\n",
    "df = pd.read_excel(\"E Commerce Dataset.xlsx\", sheet_name=1)  # try 1st data sheet\n",
    "print(df.head())\n",
    "print(df.columns.tolist())"
   ]
  },
  {
   "cell_type": "code",
   "execution_count": 7,
   "id": "ae471c87",
   "metadata": {},
   "outputs": [
    {
     "name": "stdout",
     "output_type": "stream",
     "text": [
      "['CustomerID', 'Churn', 'Tenure', 'PreferredLoginDevice', 'CityTier', 'WarehouseToHome', 'PreferredPaymentMode', 'Gender', 'HourSpendOnApp', 'NumberOfDeviceRegistered', 'PreferedOrderCat', 'SatisfactionScore', 'MaritalStatus', 'NumberOfAddress', 'Complain', 'OrderAmountHikeFromlastYear', 'CouponUsed', 'OrderCount', 'DaySinceLastOrder', 'CashbackAmount']\n"
     ]
    }
   ],
   "source": [
    "print(df.columns.tolist())"
   ]
  },
  {
   "cell_type": "code",
   "execution_count": 8,
   "id": "f53269b4",
   "metadata": {},
   "outputs": [
    {
     "name": "stdout",
     "output_type": "stream",
     "text": [
      "   CustomerID  Churn  Tenure PreferredLoginDevice  CityTier  WarehouseToHome  \\\n",
      "0       50001      1     4.0         Mobile Phone         3              6.0   \n",
      "1       50002      1     NaN                Phone         1              8.0   \n",
      "2       50003      1     NaN                Phone         1             30.0   \n",
      "3       50004      1     0.0                Phone         3             15.0   \n",
      "4       50005      1     0.0                Phone         1             12.0   \n",
      "\n",
      "  PreferredPaymentMode  Gender  HourSpendOnApp  NumberOfDeviceRegistered  \\\n",
      "0           Debit Card  Female             3.0                         3   \n",
      "1                  UPI    Male             3.0                         4   \n",
      "2           Debit Card    Male             2.0                         4   \n",
      "3           Debit Card    Male             2.0                         4   \n",
      "4                   CC    Male             NaN                         3   \n",
      "\n",
      "     PreferedOrderCat  SatisfactionScore MaritalStatus  NumberOfAddress  \\\n",
      "0  Laptop & Accessory                  2        Single                9   \n",
      "1              Mobile                  3        Single                7   \n",
      "2              Mobile                  3        Single                6   \n",
      "3  Laptop & Accessory                  5        Single                8   \n",
      "4              Mobile                  5        Single                3   \n",
      "\n",
      "   Complain  OrderAmountHikeFromlastYear  CouponUsed  OrderCount  \\\n",
      "0         1                         11.0         1.0         1.0   \n",
      "1         1                         15.0         0.0         1.0   \n",
      "2         1                         14.0         0.0         1.0   \n",
      "3         0                         23.0         0.0         1.0   \n",
      "4         0                         11.0         1.0         1.0   \n",
      "\n",
      "   DaySinceLastOrder  CashbackAmount  \n",
      "0                5.0          159.93  \n",
      "1                0.0          120.90  \n",
      "2                3.0          120.28  \n",
      "3                3.0          134.07  \n",
      "4                3.0          129.60  \n",
      "['CustomerID', 'Churn', 'Tenure', 'PreferredLoginDevice', 'CityTier', 'WarehouseToHome', 'PreferredPaymentMode', 'Gender', 'HourSpendOnApp', 'NumberOfDeviceRegistered', 'PreferedOrderCat', 'SatisfactionScore', 'MaritalStatus', 'NumberOfAddress', 'Complain', 'OrderAmountHikeFromlastYear', 'CouponUsed', 'OrderCount', 'DaySinceLastOrder', 'CashbackAmount']\n"
     ]
    }
   ],
   "source": [
    "import pandas as pd\n",
    "\n",
    "df = pd.read_excel(\"E Commerce Dataset.xlsx\", sheet_name=1)  # try 1st data sheet\n",
    "print(df.head())\n",
    "print(df.columns.tolist())\n"
   ]
  },
  {
   "cell_type": "code",
   "execution_count": 10,
   "id": "7896ae5c",
   "metadata": {},
   "outputs": [
    {
     "name": "stdout",
     "output_type": "stream",
     "text": [
      "Customers: 3,774 | Total revenue: $1.80M | Avg CLV: $477\n"
     ]
    },
    {
     "data": {
      "text/html": [
       "<div>\n",
       "<style scoped>\n",
       "    .dataframe tbody tr th:only-of-type {\n",
       "        vertical-align: middle;\n",
       "    }\n",
       "\n",
       "    .dataframe tbody tr th {\n",
       "        vertical-align: top;\n",
       "    }\n",
       "\n",
       "    .dataframe thead th {\n",
       "        text-align: right;\n",
       "    }\n",
       "</style>\n",
       "<table border=\"1\" class=\"dataframe\">\n",
       "  <thead>\n",
       "    <tr style=\"text-align: right;\">\n",
       "      <th></th>\n",
       "      <th>count</th>\n",
       "      <th>mean</th>\n",
       "      <th>std</th>\n",
       "      <th>min</th>\n",
       "      <th>max</th>\n",
       "    </tr>\n",
       "  </thead>\n",
       "  <tbody>\n",
       "    <tr>\n",
       "      <th>CustomerID</th>\n",
       "      <td>3774.0</td>\n",
       "      <td>53017.994966</td>\n",
       "      <td>1608.979289</td>\n",
       "      <td>50001.0</td>\n",
       "      <td>55630.00</td>\n",
       "    </tr>\n",
       "    <tr>\n",
       "      <th>Churn</th>\n",
       "      <td>3774.0</td>\n",
       "      <td>0.167197</td>\n",
       "      <td>0.373201</td>\n",
       "      <td>0.0</td>\n",
       "      <td>1.00</td>\n",
       "    </tr>\n",
       "    <tr>\n",
       "      <th>Tenure</th>\n",
       "      <td>3774.0</td>\n",
       "      <td>8.776895</td>\n",
       "      <td>7.678508</td>\n",
       "      <td>0.0</td>\n",
       "      <td>51.00</td>\n",
       "    </tr>\n",
       "    <tr>\n",
       "      <th>CityTier</th>\n",
       "      <td>3774.0</td>\n",
       "      <td>1.707737</td>\n",
       "      <td>0.936725</td>\n",
       "      <td>1.0</td>\n",
       "      <td>3.00</td>\n",
       "    </tr>\n",
       "    <tr>\n",
       "      <th>WarehouseToHome</th>\n",
       "      <td>3774.0</td>\n",
       "      <td>15.743773</td>\n",
       "      <td>8.594330</td>\n",
       "      <td>5.0</td>\n",
       "      <td>127.00</td>\n",
       "    </tr>\n",
       "    <tr>\n",
       "      <th>HourSpendOnApp</th>\n",
       "      <td>3774.0</td>\n",
       "      <td>2.981187</td>\n",
       "      <td>0.722158</td>\n",
       "      <td>0.0</td>\n",
       "      <td>5.00</td>\n",
       "    </tr>\n",
       "    <tr>\n",
       "      <th>NumberOfDeviceRegistered</th>\n",
       "      <td>3774.0</td>\n",
       "      <td>3.754107</td>\n",
       "      <td>1.025233</td>\n",
       "      <td>1.0</td>\n",
       "      <td>6.00</td>\n",
       "    </tr>\n",
       "    <tr>\n",
       "      <th>SatisfactionScore</th>\n",
       "      <td>3774.0</td>\n",
       "      <td>3.056439</td>\n",
       "      <td>1.389730</td>\n",
       "      <td>1.0</td>\n",
       "      <td>5.00</td>\n",
       "    </tr>\n",
       "    <tr>\n",
       "      <th>NumberOfAddress</th>\n",
       "      <td>3774.0</td>\n",
       "      <td>4.216481</td>\n",
       "      <td>2.562142</td>\n",
       "      <td>1.0</td>\n",
       "      <td>22.00</td>\n",
       "    </tr>\n",
       "    <tr>\n",
       "      <th>Complain</th>\n",
       "      <td>3774.0</td>\n",
       "      <td>0.282194</td>\n",
       "      <td>0.450127</td>\n",
       "      <td>0.0</td>\n",
       "      <td>1.00</td>\n",
       "    </tr>\n",
       "    <tr>\n",
       "      <th>OrderAmountHikeFromlastYear</th>\n",
       "      <td>3774.0</td>\n",
       "      <td>15.727610</td>\n",
       "      <td>3.629910</td>\n",
       "      <td>11.0</td>\n",
       "      <td>26.00</td>\n",
       "    </tr>\n",
       "    <tr>\n",
       "      <th>CouponUsed</th>\n",
       "      <td>3774.0</td>\n",
       "      <td>1.719661</td>\n",
       "      <td>1.674508</td>\n",
       "      <td>0.0</td>\n",
       "      <td>16.00</td>\n",
       "    </tr>\n",
       "    <tr>\n",
       "      <th>OrderCount</th>\n",
       "      <td>3774.0</td>\n",
       "      <td>2.825384</td>\n",
       "      <td>2.467597</td>\n",
       "      <td>1.0</td>\n",
       "      <td>16.00</td>\n",
       "    </tr>\n",
       "    <tr>\n",
       "      <th>DaySinceLastOrder</th>\n",
       "      <td>3774.0</td>\n",
       "      <td>4.526232</td>\n",
       "      <td>3.371310</td>\n",
       "      <td>0.0</td>\n",
       "      <td>46.00</td>\n",
       "    </tr>\n",
       "    <tr>\n",
       "      <th>CashbackAmount</th>\n",
       "      <td>3774.0</td>\n",
       "      <td>164.213590</td>\n",
       "      <td>24.093966</td>\n",
       "      <td>0.0</td>\n",
       "      <td>324.99</td>\n",
       "    </tr>\n",
       "    <tr>\n",
       "      <th>Category_Encoded</th>\n",
       "      <td>3774.0</td>\n",
       "      <td>2.459724</td>\n",
       "      <td>1.278725</td>\n",
       "      <td>0.0</td>\n",
       "      <td>5.00</td>\n",
       "    </tr>\n",
       "    <tr>\n",
       "      <th>Device_Encoded</th>\n",
       "      <td>3774.0</td>\n",
       "      <td>0.898251</td>\n",
       "      <td>0.690500</td>\n",
       "      <td>0.0</td>\n",
       "      <td>2.00</td>\n",
       "    </tr>\n",
       "    <tr>\n",
       "      <th>Total_Spent</th>\n",
       "      <td>3774.0</td>\n",
       "      <td>476.985792</td>\n",
       "      <td>465.998613</td>\n",
       "      <td>0.0</td>\n",
       "      <td>4203.29</td>\n",
       "    </tr>\n",
       "  </tbody>\n",
       "</table>\n",
       "</div>"
      ],
      "text/plain": [
       "                              count          mean          std      min  \\\n",
       "CustomerID                   3774.0  53017.994966  1608.979289  50001.0   \n",
       "Churn                        3774.0      0.167197     0.373201      0.0   \n",
       "Tenure                       3774.0      8.776895     7.678508      0.0   \n",
       "CityTier                     3774.0      1.707737     0.936725      1.0   \n",
       "WarehouseToHome              3774.0     15.743773     8.594330      5.0   \n",
       "HourSpendOnApp               3774.0      2.981187     0.722158      0.0   \n",
       "NumberOfDeviceRegistered     3774.0      3.754107     1.025233      1.0   \n",
       "SatisfactionScore            3774.0      3.056439     1.389730      1.0   \n",
       "NumberOfAddress              3774.0      4.216481     2.562142      1.0   \n",
       "Complain                     3774.0      0.282194     0.450127      0.0   \n",
       "OrderAmountHikeFromlastYear  3774.0     15.727610     3.629910     11.0   \n",
       "CouponUsed                   3774.0      1.719661     1.674508      0.0   \n",
       "OrderCount                   3774.0      2.825384     2.467597      1.0   \n",
       "DaySinceLastOrder            3774.0      4.526232     3.371310      0.0   \n",
       "CashbackAmount               3774.0    164.213590    24.093966      0.0   \n",
       "Category_Encoded             3774.0      2.459724     1.278725      0.0   \n",
       "Device_Encoded               3774.0      0.898251     0.690500      0.0   \n",
       "Total_Spent                  3774.0    476.985792   465.998613      0.0   \n",
       "\n",
       "                                  max  \n",
       "CustomerID                   55630.00  \n",
       "Churn                            1.00  \n",
       "Tenure                          51.00  \n",
       "CityTier                         3.00  \n",
       "WarehouseToHome                127.00  \n",
       "HourSpendOnApp                   5.00  \n",
       "NumberOfDeviceRegistered         6.00  \n",
       "SatisfactionScore                5.00  \n",
       "NumberOfAddress                 22.00  \n",
       "Complain                         1.00  \n",
       "OrderAmountHikeFromlastYear     26.00  \n",
       "CouponUsed                      16.00  \n",
       "OrderCount                      16.00  \n",
       "DaySinceLastOrder               46.00  \n",
       "CashbackAmount                 324.99  \n",
       "Category_Encoded                 5.00  \n",
       "Device_Encoded                   2.00  \n",
       "Total_Spent                   4203.29  "
      ]
     },
     "metadata": {},
     "output_type": "display_data"
    }
   ],
   "source": [
    "from sklearn.preprocessing import LabelEncoder\n",
    "\n",
    "df.dropna(inplace=True)\n",
    "\n",
    "# Encode categorical columns\n",
    "le_cat = LabelEncoder()\n",
    "le_dev = LabelEncoder()\n",
    "\n",
    "df['Category_Encoded'] = le_cat.fit_transform(df['PreferedOrderCat'])\n",
    "df['Device_Encoded']   = le_dev.fit_transform(df['PreferredLoginDevice'])\n",
    "\n",
    "# Create a proxy for revenue (OrderCount * CashbackAmount, or similar)\n",
    "df['Total_Spent'] = df['OrderCount'] * df['CashbackAmount']\n",
    "\n",
    "# Quick KPIs\n",
    "print(f\"Customers: {len(df):,} | \"\n",
    "      f\"Total revenue: ${df['Total_Spent'].sum()/1e6:.2f}M | \"\n",
    "      f\"Avg CLV: ${df['Total_Spent'].mean():.0f}\")\n",
    "\n",
    "display(df.describe().T[['count','mean','std','min','max']])\n"
   ]
  },
  {
   "cell_type": "markdown",
   "id": "fdf9111b",
   "metadata": {},
   "source": [
    "Cell 4 — RFM Scoring & Segmentation"
   ]
  },
  {
   "cell_type": "code",
   "execution_count": 11,
   "id": "e7a3173d",
   "metadata": {},
   "outputs": [
    {
     "name": "stdout",
     "output_type": "stream",
     "text": [
      "Customer_Segment\n",
      "At Risk                1032\n",
      "New Customers           886\n",
      "Potential Loyalists     455\n",
      "Need Attention          416\n",
      "Lost Customers          411\n",
      "Champions               341\n",
      "Big Spenders            156\n",
      "Loyal Customers          77\n",
      "Name: count, dtype: int64\n"
     ]
    }
   ],
   "source": [
    "import pandas as pd\n",
    "\n",
    "def safe_qcut(series, q, labels=None):\n",
    "    try:\n",
    "        return pd.qcut(series, q, labels=labels)\n",
    "    except ValueError:  # not enough unique values\n",
    "        return pd.Series([None]*len(series), index=series.index)\n",
    "\n",
    "df['Recency'] = df['DaySinceLastOrder']\n",
    "df['Frequency'] = df['OrderCount']\n",
    "df['Monetary'] = df['Total_Spent']\n",
    "\n",
    "# RFM Scoring\n",
    "df['R_Score'] = safe_qcut(df['Recency'], 5, labels=[5,4,3,2,1]).astype(float).fillna(3)\n",
    "df['F_Score'] = safe_qcut(df['Frequency'].rank(method='first'), 5, labels=[1,2,3,4,5]).astype(float).fillna(3)\n",
    "df['M_Score'] = safe_qcut(df['Monetary'], 5, labels=[1,2,3,4,5]).astype(float).fillna(3)\n",
    "\n",
    "df['RFM_Score'] = df['R_Score'] + df['F_Score'] + df['M_Score']\n",
    "\n",
    "# Customer Segmentation\n",
    "def segment_customers(r, f, m):\n",
    "    if r>=4 and f>=4 and m>=4: return 'Champions'\n",
    "    if r>=3 and f>=4 and m>=4: return 'Loyal Customers'\n",
    "    if r>=4 and m>=4: return 'Big Spenders'\n",
    "    if r>=4 and f<=2: return 'New Customers'\n",
    "    if r>=3 and f>=2 and m>=3: return 'Potential Loyalists'\n",
    "    if r<=2 and f>=3 and m>=3: return 'At Risk'\n",
    "    if r<=2 and f>=4 and m>=4: return 'Cannot Lose Them'\n",
    "    if r<=2 and f<=2: return 'Lost Customers'\n",
    "    return 'Need Attention'\n",
    "\n",
    "df['Customer_Segment'] = df.apply(\n",
    "    lambda x: segment_customers(x['R_Score'], x['F_Score'], x['M_Score']), axis=1\n",
    ")\n",
    "\n",
    "print(df['Customer_Segment'].value_counts())\n"
   ]
  },
  {
   "cell_type": "code",
   "execution_count": 12,
   "id": "a74b7d64",
   "metadata": {},
   "outputs": [
    {
     "name": "stdout",
     "output_type": "stream",
     "text": [
      "Index(['CustomerID', 'Churn', 'Tenure', 'PreferredLoginDevice', 'CityTier',\n",
      "       'WarehouseToHome', 'PreferredPaymentMode', 'Gender', 'HourSpendOnApp',\n",
      "       'NumberOfDeviceRegistered', 'PreferedOrderCat', 'SatisfactionScore',\n",
      "       'MaritalStatus', 'NumberOfAddress', 'Complain',\n",
      "       'OrderAmountHikeFromlastYear', 'CouponUsed', 'OrderCount',\n",
      "       'DaySinceLastOrder', 'CashbackAmount', 'Category_Encoded',\n",
      "       'Device_Encoded', 'Total_Spent', 'Recency', 'Frequency', 'Monetary',\n",
      "       'R_Score', 'F_Score', 'M_Score', 'RFM_Score', 'Customer_Segment'],\n",
      "      dtype='object')\n"
     ]
    }
   ],
   "source": [
    "print(df.columns)\n"
   ]
  },
  {
   "cell_type": "markdown",
   "id": "9cd74880",
   "metadata": {},
   "source": [
    "Cell 5 — KMeans on RFM"
   ]
  },
  {
   "cell_type": "code",
   "execution_count": 13,
   "id": "ad59f556",
   "metadata": {},
   "outputs": [
    {
     "data": {
      "image/png": "[encoded data removed]",
      "text/plain": [
       "<Figure size 1000x600 with 1 Axes>"
      ]
     },
     "metadata": {},
     "output_type": "display_data"
    }
   ],
   "source": [
    "\n",
    "from sklearn.preprocessing import StandardScaler\n",
    "from sklearn.cluster import KMeans\n",
    "import seaborn as sns\n",
    "import matplotlib.pyplot as plt\n",
    "rfm = df[['Recency','Frequency','Monetary']]\n",
    "scaler_rfm = StandardScaler()\n",
    "rfm_scaled = scaler_rfm.fit_transform(rfm)\n",
    "\n",
    "RANDOM_STATE = 42\n",
    "kmeans = KMeans(n_clusters=4, random_state=RANDOM_STATE, n_init=10)\n",
    "df['RFM_Cluster'] = kmeans.fit_predict(rfm_scaled)\n",
    "\n",
    "sns.countplot(x='RFM_Cluster', data=df)\n",
    "plt.title(\"Customers per RFM Cluster\")\n",
    "plt.show()"
   ]
  },
  {
   "cell_type": "markdown",
   "id": "a8f31bce",
   "metadata": {},
   "source": [
    " Cell 6: Feature Engineering + Churn Label + Train-Test Split"
   ]
  },
  {
   "cell_type": "code",
   "execution_count": 14,
   "id": "e812fa9e",
   "metadata": {},
   "outputs": [
    {
     "name": "stdout",
     "output_type": "stream",
     "text": [
      "Train shape: (2830, 15)  Test shape: (944, 15)\n"
     ]
    }
   ],
   "source": [
    "\n",
    "from sklearn.model_selection import train_test_split\n",
    "from sklearn.preprocessing import StandardScaler\n",
    "\n",
    "# --- 1. Define churn ---\n",
    "CHURN_THRESHOLD = 60  # days since last order\n",
    "df['Is_Churned'] = (df['DaySinceLastOrder'] > CHURN_THRESHOLD).astype(int)\n",
    "\n",
    "# --- 2. Feature engineering ---\n",
    "df['Orders_Per_Month'] = df['OrderCount'] / df['Tenure'].replace(0, 1)\n",
    "df['Spending_Per_Month'] = df['Total_Spent'] / df['Tenure'].replace(0, 1)\n",
    "df['Support_Rate'] = df['Complain'] / (df['OrderCount'] + 1)\n",
    "df['CLV_Score'] = pd.qcut(df['Total_Spent'].rank(method='first'), 5, labels=[1,2,3,4,5]).astype(int)\n",
    "\n",
    "# --- 3. Features for model ---\n",
    "features = [\n",
    "    'Tenure','OrderCount','Total_Spent','CashbackAmount','DaySinceLastOrder',\n",
    "    'Orders_Per_Month','Spending_Per_Month','Support_Rate','CLV_Score',\n",
    "    'Category_Encoded','Device_Encoded','R_Score','F_Score','M_Score','RFM_Cluster'\n",
    "]\n",
    "X = df[features].fillna(df[features].median())\n",
    "y = df['Is_Churned']\n",
    "\n",
    "# --- 4. Train-test split ---\n",
    "X_train, X_test, y_train, y_test = train_test_split(\n",
    "    X, y, test_size=0.25, stratify=y, random_state=RANDOM_STATE\n",
    ")\n",
    "\n",
    "# --- 5. Scale features ---\n",
    "scaler = StandardScaler()\n",
    "X_train_scaled = scaler.fit_transform(X_train)\n",
    "X_test_scaled = scaler.transform(X_test)\n",
    "\n",
    "print(\"Train shape:\", X_train.shape, \" Test shape:\", X_test.shape)\n"
   ]
  },
  {
   "cell_type": "code",
   "execution_count": 15,
   "id": "148b5c03",
   "metadata": {},
   "outputs": [
    {
     "name": "stdout",
     "output_type": "stream",
     "text": [
      "Train class distribution: [2830]\n",
      "Test class distribution: [944]\n",
      "Unique labels in train: [0]\n",
      "Unique labels in test: [0]\n"
     ]
    }
   ],
   "source": [
    "print(\"Train class distribution:\", np.bincount(y_train))\n",
    "print(\"Test class distribution:\", np.bincount(y_test))\n",
    "print(\"Unique labels in train:\", np.unique(y_train))\n",
    "print(\"Unique labels in test:\", np.unique(y_test))"
   ]
  },
  {
   "cell_type": "markdown",
   "id": "02afac69",
   "metadata": {},
   "source": [
    " Cell 7: Model Training "
   ]
  },
  {
   "cell_type": "code",
   "execution_count": 16,
   "id": "6df67b01",
   "metadata": {},
   "outputs": [
    {
     "name": "stdout",
     "output_type": "stream",
     "text": [
      "⚠️ No threshold found, falling back to median = 3\n",
      "\n",
      "Class distribution:\n",
      " Is_Churned\n",
      "0    1936\n",
      "1    1838\n",
      "Name: count, dtype: int64\n",
      "\n",
      "Using features: ['Orders_Per_Month', 'Spending_Per_Month', 'Support_Rate', 'R_Score', 'F_Score', 'M_Score', 'CLV_Score', 'RFM_Cluster']\n",
      "\n",
      "Best RF params: {'n_estimators': 400, 'min_samples_leaf': 15, 'max_depth': None}\n",
      "\n",
      "Best threshold (F1): 0.8156\n",
      "Accuracy: 1.0\n",
      "ROC-AUC: 1.0\n",
      "\n",
      "Classification Report:\n",
      "               precision    recall  f1-score   support\n",
      "\n",
      "           0       1.00      1.00      1.00       484\n",
      "           1       1.00      1.00      1.00       460\n",
      "\n",
      "    accuracy                           1.00       944\n",
      "   macro avg       1.00      1.00      1.00       944\n",
      "weighted avg       1.00      1.00      1.00       944\n",
      "\n"
     ]
    }
   ],
   "source": [
    "# --- 1. Imports ---\n",
    "import pandas as pd\n",
    "import numpy as np\n",
    "from sklearn.model_selection import train_test_split, RandomizedSearchCV\n",
    "from sklearn.ensemble import RandomForestClassifier\n",
    "from sklearn.preprocessing import StandardScaler\n",
    "from sklearn.metrics import accuracy_score, roc_auc_score, classification_report, precision_recall_curve\n",
    "\n",
    "# --- 2. Auto-find churn threshold ---\n",
    "def find_churn_threshold(df, col=\"DaySinceLastOrder\", min_ratio=0.05, max_ratio=0.4):\n",
    "    \"\"\"\n",
    "    Automatically find a churn threshold where both classes exist\n",
    "    and positive class ratio is between min_ratio and max_ratio.\n",
    "    Falls back to median if no suitable threshold is found.\n",
    "    \"\"\"\n",
    "    for th in range(10, 120, 10):  # test 10,20,...110 days\n",
    "        labels = (df[col] > th).astype(int)\n",
    "        ratio = labels.mean()  # % churners\n",
    "        if min_ratio <= ratio <= max_ratio:\n",
    "            print(f\"✅ Using threshold {th} days → churn ratio: {ratio:.2f}\")\n",
    "            return th\n",
    "    # fallback: use median\n",
    "    th = int(df[col].median())\n",
    "    print(f\"⚠️ No threshold found, falling back to median = {th}\")\n",
    "    return th\n",
    "\n",
    "# --- 3. Define churn column ---\n",
    "CHURN_THRESHOLD = find_churn_threshold(df)\n",
    "df['Is_Churned'] = (df['DaySinceLastOrder'] > CHURN_THRESHOLD).astype(int)\n",
    "print(\"\\nClass distribution:\\n\", df['Is_Churned'].value_counts())\n",
    "\n",
    "# --- 4. Features & Target ---\n",
    "# Candidate feature list (full)\n",
    "all_features = [\n",
    "    'Age','Income','Tenure_Months','Total_Orders','Avg_Order_Value','Recency_Days',\n",
    "    'Support_Calls','Satisfaction_Score','Orders_Per_Month','Spending_Per_Month','Support_Rate',\n",
    "    'R_Score','F_Score','M_Score','CLV_Score','Primary_Category_Encoded',\n",
    "    'Primary_Device_Encoded','RFM_Cluster'\n",
    "]\n",
    "\n",
    "# Keep only features that actually exist in df\n",
    "features = [col for col in all_features if col in df.columns]\n",
    "\n",
    "print(\"\\nUsing features:\", features)\n",
    "\n",
    "X = df[features].fillna(df[features].median())\n",
    "y = df['Is_Churned']\n",
    "\n",
    "# --- 5. Train-test split ---\n",
    "X_train, X_test, y_train, y_test = train_test_split(\n",
    "    X, y, test_size=0.25, stratify=y, random_state=42\n",
    ")\n",
    "\n",
    "# --- 6. Scale features ---\n",
    "scaler = StandardScaler()\n",
    "X_train_scaled = scaler.fit_transform(X_train)\n",
    "X_test_scaled = scaler.transform(X_test)\n",
    "\n",
    "# --- 7. RandomForest with hyperparam tuning ---\n",
    "param_dist = {\n",
    "    'n_estimators': [100, 200, 400],\n",
    "    'max_depth': [6, 10, 20, None],\n",
    "    'min_samples_leaf': [1, 5, 15]\n",
    "}\n",
    "rf_base = RandomForestClassifier(class_weight='balanced', random_state=42)\n",
    "\n",
    "search = RandomizedSearchCV(\n",
    "    rf_base, param_distributions=param_dist,\n",
    "    n_iter=8, scoring='roc_auc', cv=3, n_jobs=-1, random_state=42\n",
    ")\n",
    "search.fit(X_train_scaled, y_train)\n",
    "\n",
    "best_rf = search.best_estimator_\n",
    "print(\"\\nBest RF params:\", search.best_params_)\n",
    "\n",
    "# --- 8. Predictions & threshold tuning ---\n",
    "if hasattr(best_rf, \"predict_proba\"):\n",
    "    y_proba = best_rf.predict_proba(X_test_scaled)[:, 1]\n",
    "else:\n",
    "    y_proba = best_rf.decision_function(X_test_scaled)\n",
    "\n",
    "prec, rec, thr = precision_recall_curve(y_test, y_proba)\n",
    "f1 = 2 * prec * rec / (prec + rec + 1e-12)\n",
    "best_idx = np.nanargmax(f1)\n",
    "best_threshold = thr[best_idx] if best_idx < len(thr) else 0.5\n",
    "\n",
    "y_pred_thresh = (y_proba >= best_threshold).astype(int)\n",
    "\n",
    "# --- 9. Evaluation ---\n",
    "print(\"\\nBest threshold (F1):\", round(best_threshold, 4))\n",
    "print(\"Accuracy:\", round(accuracy_score(y_test, y_pred_thresh), 4))\n",
    "print(\"ROC-AUC:\", round(roc_auc_score(y_test, y_proba), 4))\n",
    "print(\"\\nClassification Report:\\n\", classification_report(y_test, y_pred_thresh))\n"
   ]
  },
  {
   "cell_type": "markdown",
   "id": "8c4a28d6",
   "metadata": {},
   "source": [
    "Cell 8 — RandomForest + Hyperparameter Tuning"
   ]
  },
  {
   "cell_type": "code",
   "execution_count": 17,
   "id": "e40bc18d",
   "metadata": {},
   "outputs": [
    {
     "name": "stdout",
     "output_type": "stream",
     "text": [
      "Best RF params: {'n_estimators': 400, 'min_samples_leaf': 15, 'max_depth': None}\n"
     ]
    }
   ],
   "source": [
    "param_dist = {'n_estimators':[100,200,400],'max_depth':[6,10,20,None],'min_samples_leaf':[1,5,15]}\n",
    "rf = RandomForestClassifier(class_weight='balanced', random_state=RANDOM_STATE)\n",
    "rnd = RandomizedSearchCV(rf, param_dist, n_iter=8, scoring='roc_auc', cv=3, n_jobs=-1, random_state=RANDOM_STATE)\n",
    "rnd.fit(X_train_scaled, y_train)\n",
    "best_rf = rnd.best_estimator_\n",
    "print(\"Best RF params:\", rnd.best_params_)\n"
   ]
  },
  {
   "cell_type": "markdown",
   "id": "fd1e13a0",
   "metadata": {},
   "source": [
    "Cell 9 — Calibration & Evaluation"
   ]
  },
  {
   "cell_type": "code",
   "execution_count": 18,
   "id": "8090654a",
   "metadata": {},
   "outputs": [
    {
     "name": "stdout",
     "output_type": "stream",
     "text": [
      "Test AUC: 1.0\n",
      "Best threshold (F1): 0.9744\n",
      "              precision    recall  f1-score   support\n",
      "\n",
      "           0       1.00      1.00      1.00       484\n",
      "           1       1.00      1.00      1.00       460\n",
      "\n",
      "    accuracy                           1.00       944\n",
      "   macro avg       1.00      1.00      1.00       944\n",
      "weighted avg       1.00      1.00      1.00       944\n",
      "\n"
     ]
    }
   ],
   "source": [
    "calibrator = CalibratedClassifierCV(best_rf, cv=3)\n",
    "calibrator.fit(X_train_scaled, y_train)\n",
    "\n",
    "y_proba = calibrator.predict_proba(X_test_scaled)[:,1]\n",
    "prec, rec, thr = precision_recall_curve(y_test, y_proba)\n",
    "f1 = 2*prec*rec/(prec+rec+1e-12)\n",
    "best_threshold = thr[np.nanargmax(f1)]\n",
    "y_pred_thresh = (y_proba>=best_threshold).astype(int)\n",
    "\n",
    "print(\"Test AUC:\", round(roc_auc_score(y_test, y_proba),4))\n",
    "print(\"Best threshold (F1):\", round(best_threshold,4))\n",
    "print(classification_report(y_test, y_pred_thresh))\n"
   ]
  },
  {
   "cell_type": "markdown",
   "id": "9924f151",
   "metadata": {},
   "source": [
    "Cell 10 — Churn Risk Visualization & Export"
   ]
  },
  {
   "cell_type": "code",
   "execution_count": 19,
   "id": "f2b98fac",
   "metadata": {},
   "outputs": [
    {
     "data": {
      "image/png": "[encoded data removed]",
      "text/plain": [
       "<Figure size 1000x600 with 1 Axes>"
      ]
     },
     "metadata": {},
     "output_type": "display_data"
    },
    {
     "name": "stdout",
     "output_type": "stream",
     "text": [
      "Exported campaign pack.\n"
     ]
    }
   ],
   "source": [
    "df['Churn_Risk_Score'] = calibrator.predict_proba(scaler.transform(X))[:,1]\n",
    "df['Risk_Level'] = pd.cut(df['Churn_Risk_Score'], bins=[-0.001,0.3,0.7,1.0], labels=['Low','Medium','High'])\n",
    "\n",
    "# Top 5 high-risk segments\n",
    "top_risk = df.groupby('Customer_Segment')['Churn_Risk_Score'].mean().sort_values(ascending=False).head(5)\n",
    "sns.barplot(x=top_risk.values, y=top_risk.index)\n",
    "plt.xlabel(\"Avg Churn Risk Score\"); plt.title(\"Top 5 High-Risk Customer Segments\")\n",
    "plt.show()\n",
    "\n",
    "# Export high-value & high-risk customers\n",
    "high_value_high_risk = df[(df['Risk_Level']=='High') & (df['Total_Spent']>df['Total_Spent'].quantile(0.75))]\n",
    "campaign_pack = high_value_high_risk[['CustomerID','Total_Spent','Churn_Risk_Score','Risk_Level','Customer_Segment']]\n",
    "campaign_pack['Recommended_Action'] = 'Personalized offer + priority support'\n",
    "campaign_pack.to_csv(\"campaign_pack_high_value_high_risk.csv\", index=False)\n",
    "print(\"Exported campaign pack.\")\n"
   ]
  }
 ],
 "metadata": {
  "kernelspec": {
   "display_name": "Python 3",
   "language": "python",
   "name": "python3"
  },
  "language_info": {
   "codemirror_mode": {
    "name": "ipython",
    "version": 3
   },
   "file_extension": ".py",
   "mimetype": "text/x-python",
   "name": "python",
   "nbconvert_exporter": "python",
   "pygments_lexer": "ipython3",
   "version": "3.13.2"
  }
 },
 "nbformat": 4,
 "nbformat_minor": 5
}
